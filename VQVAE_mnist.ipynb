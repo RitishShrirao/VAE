{
 "cells": [
  {
   "cell_type": "code",
   "execution_count": 1,
   "metadata": {},
   "outputs": [],
   "source": [
    "import torch\n",
    "from torch import nn\n",
    "from torch import optim\n",
    "from tqdm import tqdm\n",
    "import torch.nn.functional as F\n",
    "import matplotlib.pyplot as plt\n",
    "from torch.utils.data import DataLoader\n",
    "import numpy as np"
   ]
  },
  {
   "cell_type": "code",
   "execution_count": 2,
   "metadata": {},
   "outputs": [
    {
     "name": "stderr",
     "output_type": "stream",
     "text": [
      "/home/ritish/prog/ML/.venv/lib/python3.12/site-packages/tqdm/auto.py:21: TqdmWarning: IProgress not found. Please update jupyter and ipywidgets. See https://ipywidgets.readthedocs.io/en/stable/user_install.html\n",
      "  from .autonotebook import tqdm as notebook_tqdm\n"
     ]
    }
   ],
   "source": [
    "from torchvision import datasets as Datasets\n",
    "from torchvision import transforms as T\n",
    "\n",
    "mnist_train_transform = T.Compose([\n",
    "    T.Resize((32, 32)),\n",
    "    T.ToTensor(),\n",
    "])\n",
    "\n",
    "mnist_test_transform = T.Compose([\n",
    "    T.Resize((32, 32)),\n",
    "    T.ToTensor(),\n",
    "])\n",
    "\n",
    "train_dataset = Datasets.MNIST(root='../../autoencoder', train=True, download=False, transform=mnist_train_transform)\n",
    "test_dataset = Datasets.MNIST(root='../../autoencoder', train=False, download=False, transform=mnist_test_transform)"
   ]
  },
  {
   "cell_type": "code",
   "execution_count": 4,
   "metadata": {},
   "outputs": [],
   "source": [
    "train_loader = DataLoader(train_dataset, batch_size=256, shuffle=True, num_workers=16, pin_memory=True)\n",
    "test_loader = DataLoader(test_dataset, batch_size=256, shuffle=False, num_workers=16, pin_memory=True)"
   ]
  },
  {
   "cell_type": "code",
   "execution_count": 5,
   "metadata": {},
   "outputs": [
    {
     "data": {
      "text/plain": [
       "<matplotlib.image.AxesImage at 0x7c345c733230>"
      ]
     },
     "execution_count": 5,
     "metadata": {},
     "output_type": "execute_result"
    },
    {
     "data": {
      "image/png": "[encoded data removed]",
      "text/plain": [
       "<Figure size 640x480 with 1 Axes>"
      ]
     },
     "metadata": {},
     "output_type": "display_data"
    }
   ],
   "source": [
    "# Show image from train loader\n",
    "img, _ = next(iter(train_loader))\n",
    "plt.imshow(img[0][0], cmap='gray')"
   ]
  },
  {
   "cell_type": "code",
   "execution_count": 6,
   "metadata": {},
   "outputs": [
    {
     "name": "stdout",
     "output_type": "stream",
     "text": [
      "True\n"
     ]
    }
   ],
   "source": [
    "# Calculate pair wise distance\n",
    "a = torch.randn(100, 4).cuda()\n",
    "b = torch.randn(200, 4).cuda()\n",
    "distances = torch.sqrt(torch.sum(a**2, dim=1, keepdim=True) + torch.sum(b**2, dim=1).view(-1, b.size(0)) - 2 * a @ b.T)\n",
    "min_idx = torch.argmin(distances, dim=1)\n",
    "distances_torch = torch.cdist(a, b)\n",
    "\n",
    "print(torch.allclose(distances, distances_torch, atol=1e-5))"
   ]
  },
  {
   "cell_type": "code",
   "execution_count": 41,
   "metadata": {},
   "outputs": [
    {
     "name": "stdout",
     "output_type": "stream",
     "text": [
      "2.7335562705993652\n",
      "3.2499489784240723\n"
     ]
    }
   ],
   "source": [
    "# Running time comparison\n",
    "import time\n",
    "ts = time.time()\n",
    "for i in range(50000):\n",
    "    dist = (torch.sum(a**2, dim=1, keepdim=True) + torch.sum(b**2, dim=1).view(-1, b.size(0)) - 2 * a @ b.T)\n",
    "print(time.time() - ts)\n",
    "\n",
    "ts = time.time()\n",
    "for i in range(50000):\n",
    "    dist = torch.cdist(a, b)\n",
    "print(time.time() - ts)"
   ]
  },
  {
   "cell_type": "code",
   "execution_count": 7,
   "metadata": {},
   "outputs": [],
   "source": [
    "class VQVAE(nn.Module):\n",
    "    def __init__(self, K=5, D=4, beta=0.2):\n",
    "        super().__init__()\n",
    "        self.K = K\n",
    "        self.D = D\n",
    "        self.beta = beta\n",
    "\n",
    "        self.encoder = nn.Sequential(\n",
    "            self.conv_block(1, 16, 4, 2, 1),\n",
    "            self.conv_block(16, 32, 4, 2, 1),\n",
    "            self.conv_block(32, 64, 4, 2, 1),\n",
    "            self.conv_block(64, D, 3, 1, 1),\n",
    "        )\n",
    "\n",
    "        # Embedding table\n",
    "        self.embedding = nn.Embedding(K, D)\n",
    "\n",
    "        self.decoder = nn.Sequential(\n",
    "            self.convT_block(D, 64, 3, 1, 1),\n",
    "            self.convT_block(64, 32, 4, 2, 1),\n",
    "            self.convT_block(32, 16, 4, 2, 1),\n",
    "            self.convT_block(16, 1, 4, 2, 1, batch_norm=False, act='sigmoid'),\n",
    "        )\n",
    "\n",
    "    def forward(self, x):\n",
    "        z = self.encoder(x)\n",
    "        B, C, H, W = z.size()\n",
    "        z = z.permute(0, 2, 3, 1)       # (B, H, W, D)\n",
    "        z = z.reshape(-1, self.D)       # (B * H * W, D)\n",
    "\n",
    "        z_q = self.quantize(z)          # z_q: (B, D)\n",
    "        \n",
    "        # Codebook loss + Commitment loss\n",
    "        loss_vq = torch.mean((z_q - z.detach())**2) + self.beta * torch.mean((z - z_q.detach())**2)\n",
    "\n",
    "        # Straight through estimation of gradients (Gradients of z_q will go to z)\n",
    "        z_q = z + (z_q - z).detach()\n",
    "        z_q = z_q.view(B, H, W, self.D).permute(0, 3, 1, 2)\n",
    "        z_q = self.decoder(z_q)\n",
    "\n",
    "        return z_q, loss_vq\n",
    "\n",
    "    def quantize(self, z):\n",
    "        dist_sq = torch.sum(z**2, dim=1, keepdim=True) + torch.sum(self.embedding.weight**2, dim=1).view(-1, self.embedding.weight.size(0)) - 2 * z @ self.embedding.weight.T  # (B, K)\n",
    "        min_idx = torch.argmin(dist_sq, dim=-1)         # (B*H*W,)\n",
    "        z_q = self.embedding(min_idx)                   # (B*H*W, D)\n",
    "        return z_q\n",
    "\n",
    "    def conv_block(self, in_channels, out_channels, kernel_size, stride, padding, batch_norm=True):\n",
    "        return nn.Sequential(\n",
    "            nn.Conv2d(in_channels, out_channels, kernel_size, stride, padding, bias=(not batch_norm)),\n",
    "            nn.BatchNorm2d(out_channels) if batch_norm else nn.Identity(),\n",
    "            nn.ReLU(),\n",
    "        )\n",
    "    \n",
    "    def convT_block(self, in_channels, out_channels, kernel_size, stride, padding, batch_norm=True, act='relu'):\n",
    "        return nn.Sequential(\n",
    "            nn.ConvTranspose2d(in_channels, out_channels, kernel_size, stride, padding, bias=(not batch_norm)),\n",
    "            nn.BatchNorm2d(out_channels) if batch_norm else nn.Identity(),\n",
    "            nn.ReLU() if act == 'relu' else nn.Sigmoid(),\n",
    "        )"
   ]
  },
  {
   "cell_type": "code",
   "execution_count": 8,
   "metadata": {},
   "outputs": [],
   "source": [
    "def xavier_init(model):\n",
    "    for m in model.modules():\n",
    "        if isinstance(m, nn.Conv2d):\n",
    "            nn.init.xavier_normal_(m.weight)\n",
    "        elif isinstance(m, nn.ConvTranspose2d):\n",
    "            nn.init.xavier_normal_(m.weight)\n",
    "        elif isinstance(m, nn.Linear):\n",
    "            nn.init.xavier_normal_(m.weight)"
   ]
  },
  {
   "cell_type": "code",
   "execution_count": 23,
   "metadata": {},
   "outputs": [],
   "source": [
    "device = torch.device('cuda' if torch.cuda.is_available() else 'cpu')\n",
    "model = VQVAE(K=8, D=4, beta=0.2).to(device)\n",
    "xavier_init(model)"
   ]
  },
  {
   "cell_type": "code",
   "execution_count": 24,
   "metadata": {},
   "outputs": [],
   "source": [
    "optimizer = optim.Adam(model.parameters(), lr=1e-3)"
   ]
  },
  {
   "cell_type": "code",
   "execution_count": 28,
   "metadata": {},
   "outputs": [
    {
     "name": "stderr",
     "output_type": "stream",
     "text": [
      "Loss: 0.1004, Recon Loss: 0.0244, VQ Loss: 0.0760: 100%|██████████| 235/235 [00:01<00:00, 149.93it/s]\n",
      "Loss: 0.0795, Recon Loss: 0.0212, VQ Loss: 0.0583: 100%|██████████| 235/235 [00:01<00:00, 136.29it/s]\n",
      "Loss: 0.0737, Recon Loss: 0.0197, VQ Loss: 0.0540: 100%|██████████| 235/235 [00:01<00:00, 137.56it/s]\n"
     ]
    }
   ],
   "source": [
    "epochs = 3\n",
    "for epoch in range(epochs):\n",
    "    model.train()\n",
    "    tqdm_loader = tqdm(train_loader, desc=f'Epoch {epoch + 1}/{epochs}')\n",
    "    for img, _ in tqdm_loader:\n",
    "        img = img.to(device)\n",
    "        optimizer.zero_grad()\n",
    "\n",
    "        # Forward pass\n",
    "        img_recon, loss_vq = model(img)\n",
    "        loss_recon = F.mse_loss(img_recon, img)\n",
    "        loss = loss_recon + loss_vq\n",
    "\n",
    "        loss.backward()\n",
    "        optimizer.step()\n",
    "\n",
    "        tqdm.set_description(tqdm_loader, f'Loss: {loss.item():.4f}, Recon Loss: {loss_recon.item():.4f}, VQ Loss: {loss_vq.item():.4f}')"
   ]
  },
  {
   "cell_type": "code",
   "execution_count": 50,
   "metadata": {},
   "outputs": [
    {
     "data": {
      "image/png": "[encoded data removed]",
      "text/plain": [
       "<Figure size 640x480 with 2 Axes>"
      ]
     },
     "metadata": {},
     "output_type": "display_data"
    }
   ],
   "source": [
    "# Get reconstruction of test image\n",
    "model.eval()\n",
    "img, _ = next(iter(train_loader))\n",
    "img = img.to(device)\n",
    "recon, _ = model(img)\n",
    "\n",
    "fig, ax = plt.subplots(1, 2)\n",
    "ax[0].imshow(img[0][0].cpu().detach().numpy(), cmap='gray')\n",
    "ax[0].set_title('Original Image')\n",
    "ax[1].imshow(recon[0][0].cpu().detach().numpy(), cmap='gray')\n",
    "ax[1].set_title('Reconstructed Image')\n",
    "plt.show()"
   ]
  }
 ],
 "metadata": {
  "kernelspec": {
   "display_name": ".venv",
   "language": "python",
   "name": "python3"
  },
  "language_info": {
   "codemirror_mode": {
    "name": "ipython",
    "version": 3
   },
   "file_extension": ".py",
   "mimetype": "text/x-python",
   "name": "python",
   "nbconvert_exporter": "python",
   "pygments_lexer": "ipython3",
   "version": "3.12.4"
  }
 },
 "nbformat": 4,
 "nbformat_minor": 2
}
